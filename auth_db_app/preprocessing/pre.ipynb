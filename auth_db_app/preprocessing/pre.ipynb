{
 "cells": [
  {
   "cell_type": "code",
   "execution_count": 1,
   "metadata": {},
   "outputs": [],
   "source": [
    "import pandas as pd"
   ]
  },
  {
   "cell_type": "code",
   "execution_count": 7,
   "metadata": {},
   "outputs": [
    {
     "data": {
      "text/html": [
       "<div>\n",
       "<style scoped>\n",
       "    .dataframe tbody tr th:only-of-type {\n",
       "        vertical-align: middle;\n",
       "    }\n",
       "\n",
       "    .dataframe tbody tr th {\n",
       "        vertical-align: top;\n",
       "    }\n",
       "\n",
       "    .dataframe thead th {\n",
       "        text-align: right;\n",
       "    }\n",
       "</style>\n",
       "<table border=\"1\" class=\"dataframe\">\n",
       "  <thead>\n",
       "    <tr style=\"text-align: right;\">\n",
       "      <th></th>\n",
       "      <th>Drug_Name</th>\n",
       "      <th>Reason</th>\n",
       "      <th>Description</th>\n",
       "    </tr>\n",
       "  </thead>\n",
       "  <tbody>\n",
       "    <tr>\n",
       "      <th>0</th>\n",
       "      <td>A CN Gel(Topical) 20gmA CN Soap 75gm</td>\n",
       "      <td>Acne</td>\n",
       "      <td>Mild to moderate acne (spots)</td>\n",
       "    </tr>\n",
       "    <tr>\n",
       "      <th>1</th>\n",
       "      <td>A Ret 0.05% Gel 20gmA Ret 0.1% Gel 20gmA Ret 0...</td>\n",
       "      <td>Acne</td>\n",
       "      <td>A RET 0.025% is a prescription medicine that i...</td>\n",
       "    </tr>\n",
       "    <tr>\n",
       "      <th>2</th>\n",
       "      <td>ACGEL CL NANO Gel 15gm</td>\n",
       "      <td>Acne</td>\n",
       "      <td>It is used to treat acne vulgaris in people 12...</td>\n",
       "    </tr>\n",
       "    <tr>\n",
       "      <th>3</th>\n",
       "      <td>ACGEL NANO Gel 15gm</td>\n",
       "      <td>Acne</td>\n",
       "      <td>It is used to treat acne vulgaris in people 12...</td>\n",
       "    </tr>\n",
       "    <tr>\n",
       "      <th>4</th>\n",
       "      <td>Acleen 1% Lotion 25ml</td>\n",
       "      <td>Acne</td>\n",
       "      <td>treat the most severe form of acne (nodular ac...</td>\n",
       "    </tr>\n",
       "    <tr>\n",
       "      <th>...</th>\n",
       "      <td>...</td>\n",
       "      <td>...</td>\n",
       "      <td>...</td>\n",
       "    </tr>\n",
       "    <tr>\n",
       "      <th>75</th>\n",
       "      <td>Athoderm 1% Gel 15gm</td>\n",
       "      <td>Acne</td>\n",
       "      <td>combined with anti-acne actives of both natura...</td>\n",
       "    </tr>\n",
       "    <tr>\n",
       "      <th>76</th>\n",
       "      <td>Atranza 10mg Capsule 100'S</td>\n",
       "      <td>Acne</td>\n",
       "      <td>treatment of dry scaly skin disorders of the s...</td>\n",
       "    </tr>\n",
       "    <tr>\n",
       "      <th>77</th>\n",
       "      <td>Atret 0.5% Cream 30gmATRET 0.025% Cream 30gm</td>\n",
       "      <td>Acne</td>\n",
       "      <td>Mild to moderate acne (spots)</td>\n",
       "    </tr>\n",
       "    <tr>\n",
       "      <th>78</th>\n",
       "      <td>Azac Cream 15gmAzac Soap 75gm</td>\n",
       "      <td>Acne</td>\n",
       "      <td>A RET 0.025% is a prescription medicine that i...</td>\n",
       "    </tr>\n",
       "    <tr>\n",
       "      <th>79</th>\n",
       "      <td>Azecne 20% Cream 15gmAzecne 10% Cream 15gm</td>\n",
       "      <td>Acne</td>\n",
       "      <td>It is used to treat acne vulgaris in people 12...</td>\n",
       "    </tr>\n",
       "  </tbody>\n",
       "</table>\n",
       "<p>80 rows × 3 columns</p>\n",
       "</div>"
      ],
      "text/plain": [
       "                                            Drug_Name Reason  \\\n",
       "0                A CN Gel(Topical) 20gmA CN Soap 75gm   Acne   \n",
       "1   A Ret 0.05% Gel 20gmA Ret 0.1% Gel 20gmA Ret 0...   Acne   \n",
       "2                              ACGEL CL NANO Gel 15gm   Acne   \n",
       "3                                 ACGEL NANO Gel 15gm   Acne   \n",
       "4                               Acleen 1% Lotion 25ml   Acne   \n",
       "..                                                ...    ...   \n",
       "75                               Athoderm 1% Gel 15gm   Acne   \n",
       "76                         Atranza 10mg Capsule 100'S   Acne   \n",
       "77       Atret 0.5% Cream 30gmATRET 0.025% Cream 30gm   Acne   \n",
       "78                      Azac Cream 15gmAzac Soap 75gm   Acne   \n",
       "79         Azecne 20% Cream 15gmAzecne 10% Cream 15gm   Acne   \n",
       "\n",
       "                                          Description  \n",
       "0                       Mild to moderate acne (spots)  \n",
       "1   A RET 0.025% is a prescription medicine that i...  \n",
       "2   It is used to treat acne vulgaris in people 12...  \n",
       "3   It is used to treat acne vulgaris in people 12...  \n",
       "4   treat the most severe form of acne (nodular ac...  \n",
       "..                                                ...  \n",
       "75  combined with anti-acne actives of both natura...  \n",
       "76  treatment of dry scaly skin disorders of the s...  \n",
       "77                      Mild to moderate acne (spots)  \n",
       "78  A RET 0.025% is a prescription medicine that i...  \n",
       "79  It is used to treat acne vulgaris in people 12...  \n",
       "\n",
       "[80 rows x 3 columns]"
      ]
     },
     "execution_count": 7,
     "metadata": {},
     "output_type": "execute_result"
    }
   ],
   "source": [
    "df = pd.read_excel(\"C:\\\\Users\\\\hp\\\\Downloads\\\\Personal Projects Python\\\\auth_db_app\\\\datasets\\\\Medicine_description.xlsx\")\n",
    "df.head(80)"
   ]
  },
  {
   "cell_type": "code",
   "execution_count": 8,
   "metadata": {},
   "outputs": [
    {
     "data": {
      "text/plain": [
       "array(['Acne', 'Adhd', 'Allergies', 'Alzheimer', 'Amoebiasis', 'Anaemia',\n",
       "       'Angina', 'Anxiety', 'Appetite', 'Arrhythmiasis', 'Arthritis',\n",
       "       'Cleanser', 'Constipation', 'Contraception', 'Dandruff',\n",
       "       'Depression', 'Diabetes', 'Diarrhoea', 'Digestion', 'Fever',\n",
       "       'Fungal', 'General', 'Glaucoma', 'Gout', 'Haematopoiesis',\n",
       "       'Haemorrhoid', 'Hyperpigmentation', 'Hypertension',\n",
       "       'Hyperthyroidism', 'Hypnosis', 'Hypotension', 'Hypothyroidism',\n",
       "       'Infection', 'Leprosy', 'Malarial', 'Migraine', 'Mydriasis',\n",
       "       'Osteoporosis', 'Pain', 'Parkinson', 'Psychosis', 'Pyrexia',\n",
       "       'Scabies', 'Schizophrenia', 'Smoking', 'Supplement',\n",
       "       'Thrombolysis', 'Vaccines', 'Vertigo', 'Viral', 'Wound'],\n",
       "      dtype=object)"
      ]
     },
     "execution_count": 8,
     "metadata": {},
     "output_type": "execute_result"
    }
   ],
   "source": [
    "unique_reasons = df['Reason'].unique()\n",
    "unique_reasons"
   ]
  },
  {
   "cell_type": "code",
   "execution_count": 12,
   "metadata": {},
   "outputs": [
    {
     "data": {
      "text/plain": [
       "array([\"Addnok Tablet 20'S\",\n",
       "       \"Armod 150mg Tablet 10'SArmod 50mg Tablet 10'S\",\n",
       "       \"Atokem 25mg Tablet 10'SAtokem 10mg Tablet 10'SAtokem 18mg Tablet 10'S\",\n",
       "       \"Atrest 12.5mg Tablet 10'SAtrest 25mg Tablet 10'S\",\n",
       "       \"Attentin 10mg Capsule 10'SAttentin 18mg Capsule 10'SAttentin 25mg Capsule 10'S\",\n",
       "       \"Attentrol 10mg Capsule 10'SAttentrol 25mg Capsule 10'SAttentrol 40 mg Capsule 10'SAttentrol 18mg Capsule 10'S\",\n",
       "       \"Attera 10mg Tablet 10'SAttera 18mg Tablet 10'SAttera 40mg Tablet 10'SAttera 25mg Tablet 10'S\",\n",
       "       \"Axepta 18mg Tablet 10'SAxepta 60mg Tablet 10'SAxepta 40mg Tablet 10'SAxepta 25mg Tablet 10'SAxepta 10mg Tablet 10'S\",\n",
       "       'Capnea Injection 1ml',\n",
       "       \"Modafil MD 100mg Tablet 10'SModafil MD 200mg Tablet 10'S\",\n",
       "       \"Modalert 200mg Tablet 10'SModalert 100mg Tablet 10'S\",\n",
       "       \"Modapro 100mg Tablet 10'SModapro 200mg Tablet 10'S\",\n",
       "       \"Modatec 100mg Tablet 10'SModatec 200mg Tablet 10'S\",\n",
       "       \"Provake 100mg Tablet 10'SProvake 200mg Tablet 10'S\",\n",
       "       \"Tomoxetin 18mg Capsule 10'S\", 'Vitibex Lip Gel 20gm',\n",
       "       \"Waklert 150mg Tablet 5'SWaklert 150mg Tablet 10'SWaklert 250mg Tablet 5'SWaklert 50mg Tablet 10'SWaklert 100mg Tablet 10\"],\n",
       "      dtype=object)"
      ]
     },
     "execution_count": 12,
     "metadata": {},
     "output_type": "execute_result"
    }
   ],
   "source": [
    "# Filter the DataFrame for rows where the 'Reason' column is 'adhd'\n",
    "adhd_drugs = df[df['Reason'] == 'Adhd']\n",
    "\n",
    "# Get the unique values of the 'Drug_Name' column from the filtered DataFrame\n",
    "unique_adhd_drugs = adhd_drugs['Drug_Name'].unique()\n",
    "\n",
    "# Print the unique drug names for ADHD\n",
    "unique_adhd_drugs"
   ]
  },
  {
   "cell_type": "code",
   "execution_count": null,
   "metadata": {},
   "outputs": [],
   "source": []
  }
 ],
 "metadata": {
  "kernelspec": {
   "display_name": "Python 3",
   "language": "python",
   "name": "python3"
  },
  "language_info": {
   "codemirror_mode": {
    "name": "ipython",
    "version": 3
   },
   "file_extension": ".py",
   "mimetype": "text/x-python",
   "name": "python",
   "nbconvert_exporter": "python",
   "pygments_lexer": "ipython3",
   "version": "3.11.5"
  }
 },
 "nbformat": 4,
 "nbformat_minor": 2
}

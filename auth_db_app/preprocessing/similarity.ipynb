{
 "cells": [
  {
   "cell_type": "code",
   "execution_count": 9,
   "metadata": {},
   "outputs": [],
   "source": [
    "import pandas as pd\n",
    "import numpy as np\n",
    "from sklearn.feature_extraction.text import TfidfVectorizer\n",
    "from sklearn.metrics.pairwise import cosine_similarity"
   ]
  },
  {
   "cell_type": "code",
   "execution_count": 7,
   "metadata": {},
   "outputs": [
    {
     "data": {
      "text/html": [
       "<div>\n",
       "<style scoped>\n",
       "    .dataframe tbody tr th:only-of-type {\n",
       "        vertical-align: middle;\n",
       "    }\n",
       "\n",
       "    .dataframe tbody tr th {\n",
       "        vertical-align: top;\n",
       "    }\n",
       "\n",
       "    .dataframe thead th {\n",
       "        text-align: right;\n",
       "    }\n",
       "</style>\n",
       "<table border=\"1\" class=\"dataframe\">\n",
       "  <thead>\n",
       "    <tr style=\"text-align: right;\">\n",
       "      <th></th>\n",
       "      <th>Drug_Name</th>\n",
       "      <th>Reason</th>\n",
       "      <th>Description</th>\n",
       "    </tr>\n",
       "  </thead>\n",
       "  <tbody>\n",
       "    <tr>\n",
       "      <th>0</th>\n",
       "      <td>A CN Gel(Topical) 20gmA CN Soap 75gm</td>\n",
       "      <td>Acne</td>\n",
       "      <td>Mild to moderate acne (spots)</td>\n",
       "    </tr>\n",
       "    <tr>\n",
       "      <th>1</th>\n",
       "      <td>A Ret 0.05% Gel 20gmA Ret 0.1% Gel 20gmA Ret 0...</td>\n",
       "      <td>Acne</td>\n",
       "      <td>A RET 0.025% is a prescription medicine that i...</td>\n",
       "    </tr>\n",
       "    <tr>\n",
       "      <th>2</th>\n",
       "      <td>ACGEL CL NANO Gel 15gm</td>\n",
       "      <td>Acne</td>\n",
       "      <td>It is used to treat acne vulgaris in people 12...</td>\n",
       "    </tr>\n",
       "    <tr>\n",
       "      <th>3</th>\n",
       "      <td>ACGEL NANO Gel 15gm</td>\n",
       "      <td>Acne</td>\n",
       "      <td>It is used to treat acne vulgaris in people 12...</td>\n",
       "    </tr>\n",
       "    <tr>\n",
       "      <th>4</th>\n",
       "      <td>Acleen 1% Lotion 25ml</td>\n",
       "      <td>Acne</td>\n",
       "      <td>treat the most severe form of acne (nodular ac...</td>\n",
       "    </tr>\n",
       "    <tr>\n",
       "      <th>...</th>\n",
       "      <td>...</td>\n",
       "      <td>...</td>\n",
       "      <td>...</td>\n",
       "    </tr>\n",
       "    <tr>\n",
       "      <th>22476</th>\n",
       "      <td>T Muce Ointment 5gm</td>\n",
       "      <td>Wound</td>\n",
       "      <td>used for treating warts</td>\n",
       "    </tr>\n",
       "    <tr>\n",
       "      <th>22477</th>\n",
       "      <td>Wokadine 10% Solution 100mlWokadine Solution 5...</td>\n",
       "      <td>Wound</td>\n",
       "      <td>used to soften the skin cells</td>\n",
       "    </tr>\n",
       "    <tr>\n",
       "      <th>22478</th>\n",
       "      <td>Wokadine M Onit 10gm</td>\n",
       "      <td>Wound</td>\n",
       "      <td>used for scars</td>\n",
       "    </tr>\n",
       "    <tr>\n",
       "      <th>22479</th>\n",
       "      <td>Wound Fix Solution 100ml</td>\n",
       "      <td>Wound</td>\n",
       "      <td>used for wounds</td>\n",
       "    </tr>\n",
       "    <tr>\n",
       "      <th>22480</th>\n",
       "      <td>Wounsol Ointment 15gm</td>\n",
       "      <td>Wound</td>\n",
       "      <td>used to treat and remove raised warts (usually...</td>\n",
       "    </tr>\n",
       "  </tbody>\n",
       "</table>\n",
       "<p>22481 rows × 3 columns</p>\n",
       "</div>"
      ],
      "text/plain": [
       "                                               Drug_Name Reason  \\\n",
       "0                   A CN Gel(Topical) 20gmA CN Soap 75gm   Acne   \n",
       "1      A Ret 0.05% Gel 20gmA Ret 0.1% Gel 20gmA Ret 0...   Acne   \n",
       "2                                 ACGEL CL NANO Gel 15gm   Acne   \n",
       "3                                    ACGEL NANO Gel 15gm   Acne   \n",
       "4                                  Acleen 1% Lotion 25ml   Acne   \n",
       "...                                                  ...    ...   \n",
       "22476                                T Muce Ointment 5gm  Wound   \n",
       "22477  Wokadine 10% Solution 100mlWokadine Solution 5...  Wound   \n",
       "22478                               Wokadine M Onit 10gm  Wound   \n",
       "22479                           Wound Fix Solution 100ml  Wound   \n",
       "22480                              Wounsol Ointment 15gm  Wound   \n",
       "\n",
       "                                             Description  \n",
       "0                          Mild to moderate acne (spots)  \n",
       "1      A RET 0.025% is a prescription medicine that i...  \n",
       "2      It is used to treat acne vulgaris in people 12...  \n",
       "3      It is used to treat acne vulgaris in people 12...  \n",
       "4      treat the most severe form of acne (nodular ac...  \n",
       "...                                                  ...  \n",
       "22476                            used for treating warts  \n",
       "22477                      used to soften the skin cells  \n",
       "22478                                     used for scars  \n",
       "22479                                    used for wounds  \n",
       "22480  used to treat and remove raised warts (usually...  \n",
       "\n",
       "[22481 rows x 3 columns]"
      ]
     },
     "execution_count": 7,
     "metadata": {},
     "output_type": "execute_result"
    }
   ],
   "source": [
    "# Load the dataset with medicine descriptions\n",
    "medicine_df = pd.read_excel(\"../datasets/Medicine_description.xlsx\")\n",
    "medicine_df"
   ]
  },
  {
   "cell_type": "code",
   "execution_count": 11,
   "metadata": {},
   "outputs": [],
   "source": [
    "# Fill missing values in the 'Description' column with an empty string\n",
    "medicine_df['Description'].fillna('', inplace=True)\n",
    "\n",
    "# Define TF-IDF vectorizer\n",
    "tfidf_vectorizer = TfidfVectorizer()\n",
    "\n",
    "# Fit and transform the medicine descriptions to TF-IDF vectors\n",
    "tfidf_matrix = tfidf_vectorizer.fit_transform(medicine_df['Description'])\n",
    "\n",
    "# Compute cosine similarity between medicine descriptions\n",
    "cosine_sim = cosine_similarity(tfidf_matrix, tfidf_matrix)"
   ]
  },
  {
   "cell_type": "code",
   "execution_count": 12,
   "metadata": {},
   "outputs": [],
   "source": [
    "def recommend_similar_medicines(med_name, top_n=5):\n",
    "    # Find the index of the medicine in the dataset\n",
    "    idx = medicine_df.index[medicine_df['Drug_Name'] == med_name].tolist()[0]\n",
    "    \n",
    "    # Get similarity scores of the medicine with other medicines\n",
    "    sim_scores = list(enumerate(cosine_sim[idx]))\n",
    "    \n",
    "    # Sort the medicines based on similarity scores\n",
    "    sim_scores = sorted(sim_scores, key=lambda x: x[1], reverse=True)\n",
    "    \n",
    "    # Get top N similar medicines (excluding the medicine itself)\n",
    "    similar_medicines = [(medicine_df.iloc[sim_score[0]]['Drug_Name'], sim_score[1]) \n",
    "                         for sim_score in sim_scores[1:top_n+1]]\n",
    "    \n",
    "    return similar_medicines"
   ]
  },
  {
   "cell_type": "code",
   "execution_count": 13,
   "metadata": {},
   "outputs": [
    {
     "name": "stdout",
     "output_type": "stream",
     "text": [
      "Medicines similar to 'Acne UV Gel 60gm':\n",
      "Acne UV Gel 60gm (Similarity: 1.00)\n",
      "Acnerex Soap 75gm (Similarity: 1.00)\n",
      "Acneril 1% Gel 10gmAcneril Tablet 10Acneril 0.10% Cream 20gm (Similarity: 1.00)\n",
      "Acnezyl Gel(Topical) 10gm (Similarity: 1.00)\n",
      "Acnicin Gel 15gmAcnicin 1/1% Solution 25ml (Similarity: 1.00)\n"
     ]
    }
   ],
   "source": [
    "# Example usage:\n",
    "target_med_name = 'Acne UV Gel 60gm'\n",
    "recommended_medicines = recommend_similar_medicines(target_med_name)\n",
    "print(f\"Medicines similar to '{target_med_name}':\")\n",
    "for med, similarity in recommended_medicines:\n",
    "    print(f\"{med} (Similarity: {similarity:.2f})\")"
   ]
  },
  {
   "cell_type": "code",
   "execution_count": null,
   "metadata": {},
   "outputs": [],
   "source": []
  }
 ],
 "metadata": {
  "kernelspec": {
   "display_name": "Python 3",
   "language": "python",
   "name": "python3"
  },
  "language_info": {
   "codemirror_mode": {
    "name": "ipython",
    "version": 3
   },
   "file_extension": ".py",
   "mimetype": "text/x-python",
   "name": "python",
   "nbconvert_exporter": "python",
   "pygments_lexer": "ipython3",
   "version": "3.11.2"
  }
 },
 "nbformat": 4,
 "nbformat_minor": 2
}
